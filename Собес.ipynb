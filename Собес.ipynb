{
 "cells": [
  {
   "cell_type": "code",
   "execution_count": 324,
   "metadata": {},
   "outputs": [],
   "source": [
    "import pandas as pd\n",
    "import json\n",
    "import numpy as np"
   ]
  },
  {
   "cell_type": "code",
   "execution_count": 325,
   "metadata": {},
   "outputs": [],
   "source": [
    "with open(\"trial_task.json\", \"r\") as f:\n",
    "    data = f.read()\n",
    "    json_data = json.loads(data)"
   ]
  },
  {
   "cell_type": "code",
   "execution_count": 326,
   "metadata": {},
   "outputs": [
    {
     "data": {
      "text/html": [
       "<div>\n",
       "<style scoped>\n",
       "    .dataframe tbody tr th:only-of-type {\n",
       "        vertical-align: middle;\n",
       "    }\n",
       "\n",
       "    .dataframe tbody tr th {\n",
       "        vertical-align: top;\n",
       "    }\n",
       "\n",
       "    .dataframe thead th {\n",
       "        text-align: right;\n",
       "    }\n",
       "</style>\n",
       "<table border=\"1\" class=\"dataframe\">\n",
       "  <thead>\n",
       "    <tr style=\"text-align: right;\">\n",
       "      <th></th>\n",
       "      <th>order_id</th>\n",
       "      <th>warehouse_name</th>\n",
       "      <th>highway_cost</th>\n",
       "      <th>products</th>\n",
       "    </tr>\n",
       "  </thead>\n",
       "  <tbody>\n",
       "    <tr>\n",
       "      <th>0</th>\n",
       "      <td>11973</td>\n",
       "      <td>Мордор</td>\n",
       "      <td>-70</td>\n",
       "      <td>[{'product': 'ломтик июльского неба', 'price':...</td>\n",
       "    </tr>\n",
       "    <tr>\n",
       "      <th>1</th>\n",
       "      <td>62239</td>\n",
       "      <td>хутор близ Диканьки</td>\n",
       "      <td>-15</td>\n",
       "      <td>[{'product': 'билет в Израиль', 'price': 1000,...</td>\n",
       "    </tr>\n",
       "    <tr>\n",
       "      <th>2</th>\n",
       "      <td>85794</td>\n",
       "      <td>отель Лето</td>\n",
       "      <td>-50</td>\n",
       "      <td>[{'product': 'зеленая пластинка', 'price': 10,...</td>\n",
       "    </tr>\n",
       "    <tr>\n",
       "      <th>3</th>\n",
       "      <td>33684</td>\n",
       "      <td>Мордор</td>\n",
       "      <td>-30</td>\n",
       "      <td>[{'product': 'билет в Израиль', 'price': 1000,...</td>\n",
       "    </tr>\n",
       "    <tr>\n",
       "      <th>4</th>\n",
       "      <td>25824</td>\n",
       "      <td>отель Лето</td>\n",
       "      <td>-75</td>\n",
       "      <td>[{'product': 'автограф Стаса Барецкого', 'pric...</td>\n",
       "    </tr>\n",
       "  </tbody>\n",
       "</table>\n",
       "</div>"
      ],
      "text/plain": [
       "   order_id       warehouse_name  highway_cost  \\\n",
       "0     11973               Мордор           -70   \n",
       "1     62239  хутор близ Диканьки           -15   \n",
       "2     85794           отель Лето           -50   \n",
       "3     33684               Мордор           -30   \n",
       "4     25824           отель Лето           -75   \n",
       "\n",
       "                                            products  \n",
       "0  [{'product': 'ломтик июльского неба', 'price':...  \n",
       "1  [{'product': 'билет в Израиль', 'price': 1000,...  \n",
       "2  [{'product': 'зеленая пластинка', 'price': 10,...  \n",
       "3  [{'product': 'билет в Израиль', 'price': 1000,...  \n",
       "4  [{'product': 'автограф Стаса Барецкого', 'pric...  "
      ]
     },
     "execution_count": 326,
     "metadata": {},
     "output_type": "execute_result"
    }
   ],
   "source": [
    "orders_data = pd.read_json(\"trial_task.json\") \n",
    "orders_data.head()"
   ]
  },
  {
   "cell_type": "code",
   "execution_count": 327,
   "metadata": {},
   "outputs": [
    {
     "data": {
      "text/html": [
       "<div>\n",
       "<style scoped>\n",
       "    .dataframe tbody tr th:only-of-type {\n",
       "        vertical-align: middle;\n",
       "    }\n",
       "\n",
       "    .dataframe tbody tr th {\n",
       "        vertical-align: top;\n",
       "    }\n",
       "\n",
       "    .dataframe thead th {\n",
       "        text-align: right;\n",
       "    }\n",
       "</style>\n",
       "<table border=\"1\" class=\"dataframe\">\n",
       "  <thead>\n",
       "    <tr style=\"text-align: right;\">\n",
       "      <th></th>\n",
       "      <th>product</th>\n",
       "      <th>price</th>\n",
       "      <th>quantity</th>\n",
       "      <th>order_id</th>\n",
       "    </tr>\n",
       "  </thead>\n",
       "  <tbody>\n",
       "    <tr>\n",
       "      <th>0</th>\n",
       "      <td>ломтик июльского неба</td>\n",
       "      <td>450</td>\n",
       "      <td>1</td>\n",
       "      <td>11973</td>\n",
       "    </tr>\n",
       "    <tr>\n",
       "      <th>1</th>\n",
       "      <td>билет в Израиль</td>\n",
       "      <td>1000</td>\n",
       "      <td>3</td>\n",
       "      <td>11973</td>\n",
       "    </tr>\n",
       "    <tr>\n",
       "      <th>2</th>\n",
       "      <td>статуэтка Ленина</td>\n",
       "      <td>200</td>\n",
       "      <td>3</td>\n",
       "      <td>11973</td>\n",
       "    </tr>\n",
       "    <tr>\n",
       "      <th>3</th>\n",
       "      <td>билет в Израиль</td>\n",
       "      <td>1000</td>\n",
       "      <td>1</td>\n",
       "      <td>62239</td>\n",
       "    </tr>\n",
       "    <tr>\n",
       "      <th>4</th>\n",
       "      <td>зеленая пластинка</td>\n",
       "      <td>10</td>\n",
       "      <td>2</td>\n",
       "      <td>85794</td>\n",
       "    </tr>\n",
       "  </tbody>\n",
       "</table>\n",
       "</div>"
      ],
      "text/plain": [
       "                 product  price  quantity  order_id\n",
       "0  ломтик июльского неба    450         1     11973\n",
       "1        билет в Израиль   1000         3     11973\n",
       "2       статуэтка Ленина    200         3     11973\n",
       "3        билет в Израиль   1000         1     62239\n",
       "4      зеленая пластинка     10         2     85794"
      ]
     },
     "execution_count": 327,
     "metadata": {},
     "output_type": "execute_result"
    }
   ],
   "source": [
    "d = {'product': [], 'price': [], 'quantity': [], 'order_id': []}\n",
    "result = pd.DataFrame(data=d)\n",
    "for i in json_data:\n",
    "    example = i[\"products\"]\n",
    "    r = pd.DataFrame(data=example)\n",
    "    r['order_id'] = [i[\"order_id\"] for _ in range(np.shape(r)[0])]\n",
    "    result = pd.concat([result, r], ignore_index=True)\n",
    "result['order_id'] = result['order_id'].astype(int)\n",
    "result['quantity'] = result['quantity'].astype(int)\n",
    "result['price'] = result['price'].astype(int)\n",
    "result.head()"
   ]
  },
  {
   "cell_type": "code",
   "execution_count": 328,
   "metadata": {},
   "outputs": [
    {
     "data": {
      "text/html": [
       "<div>\n",
       "<style scoped>\n",
       "    .dataframe tbody tr th:only-of-type {\n",
       "        vertical-align: middle;\n",
       "    }\n",
       "\n",
       "    .dataframe tbody tr th {\n",
       "        vertical-align: top;\n",
       "    }\n",
       "\n",
       "    .dataframe thead th {\n",
       "        text-align: right;\n",
       "    }\n",
       "</style>\n",
       "<table border=\"1\" class=\"dataframe\">\n",
       "  <thead>\n",
       "    <tr style=\"text-align: right;\">\n",
       "      <th></th>\n",
       "      <th>order_id</th>\n",
       "      <th>warehouse_name</th>\n",
       "      <th>highway_cost</th>\n",
       "      <th>product</th>\n",
       "      <th>price</th>\n",
       "      <th>quantity</th>\n",
       "      <th>total_cost_for_each_product</th>\n",
       "    </tr>\n",
       "  </thead>\n",
       "  <tbody>\n",
       "    <tr>\n",
       "      <th>0</th>\n",
       "      <td>11973</td>\n",
       "      <td>Мордор</td>\n",
       "      <td>-70</td>\n",
       "      <td>ломтик июльского неба</td>\n",
       "      <td>450</td>\n",
       "      <td>1</td>\n",
       "      <td>450</td>\n",
       "    </tr>\n",
       "    <tr>\n",
       "      <th>1</th>\n",
       "      <td>11973</td>\n",
       "      <td>Мордор</td>\n",
       "      <td>-70</td>\n",
       "      <td>билет в Израиль</td>\n",
       "      <td>1000</td>\n",
       "      <td>3</td>\n",
       "      <td>3000</td>\n",
       "    </tr>\n",
       "    <tr>\n",
       "      <th>2</th>\n",
       "      <td>11973</td>\n",
       "      <td>Мордор</td>\n",
       "      <td>-70</td>\n",
       "      <td>статуэтка Ленина</td>\n",
       "      <td>200</td>\n",
       "      <td>3</td>\n",
       "      <td>600</td>\n",
       "    </tr>\n",
       "    <tr>\n",
       "      <th>3</th>\n",
       "      <td>62239</td>\n",
       "      <td>хутор близ Диканьки</td>\n",
       "      <td>-15</td>\n",
       "      <td>билет в Израиль</td>\n",
       "      <td>1000</td>\n",
       "      <td>1</td>\n",
       "      <td>1000</td>\n",
       "    </tr>\n",
       "    <tr>\n",
       "      <th>4</th>\n",
       "      <td>85794</td>\n",
       "      <td>отель Лето</td>\n",
       "      <td>-50</td>\n",
       "      <td>зеленая пластинка</td>\n",
       "      <td>10</td>\n",
       "      <td>2</td>\n",
       "      <td>20</td>\n",
       "    </tr>\n",
       "  </tbody>\n",
       "</table>\n",
       "</div>"
      ],
      "text/plain": [
       "   order_id       warehouse_name  highway_cost                product  price  \\\n",
       "0     11973               Мордор           -70  ломтик июльского неба    450   \n",
       "1     11973               Мордор           -70        билет в Израиль   1000   \n",
       "2     11973               Мордор           -70       статуэтка Ленина    200   \n",
       "3     62239  хутор близ Диканьки           -15        билет в Израиль   1000   \n",
       "4     85794           отель Лето           -50      зеленая пластинка     10   \n",
       "\n",
       "   quantity  total_cost_for_each_product  \n",
       "0         1                          450  \n",
       "1         3                         3000  \n",
       "2         3                          600  \n",
       "3         1                         1000  \n",
       "4         2                           20  "
      ]
     },
     "execution_count": 328,
     "metadata": {},
     "output_type": "execute_result"
    }
   ],
   "source": [
    "orders_data = orders_data.set_index('order_id').join(result.set_index('order_id'), on='order_id')\\\n",
    "                            .drop(['products'], axis=1)\n",
    "orders_data['total_cost_for_each_product'] = orders_data['price'] * orders_data['quantity']\n",
    "orders_data = orders_data.reset_index(inplace=False)\n",
    "orders_data.head()"
   ]
  },
  {
   "cell_type": "markdown",
   "metadata": {},
   "source": [
    "### 1. Найти тариф стоимости доставки для каждого склада"
   ]
  },
  {
   "cell_type": "code",
   "execution_count": 329,
   "metadata": {},
   "outputs": [
    {
     "name": "stdout",
     "output_type": "stream",
     "text": [
      "['Мордор' 'хутор близ Диканьки' 'отель Лето' 'остров невезения'\n",
      " 'гиперборея']\n"
     ]
    }
   ],
   "source": [
    "warehouses = orders_data['warehouse_name'].unique()\n",
    "print(warehouses)"
   ]
  },
  {
   "cell_type": "code",
   "execution_count": 330,
   "metadata": {},
   "outputs": [
    {
     "data": {
      "text/html": [
       "<div>\n",
       "<style scoped>\n",
       "    .dataframe tbody tr th:only-of-type {\n",
       "        vertical-align: middle;\n",
       "    }\n",
       "\n",
       "    .dataframe tbody tr th {\n",
       "        vertical-align: top;\n",
       "    }\n",
       "\n",
       "    .dataframe thead th {\n",
       "        text-align: right;\n",
       "    }\n",
       "</style>\n",
       "<table border=\"1\" class=\"dataframe\">\n",
       "  <thead>\n",
       "    <tr style=\"text-align: right;\">\n",
       "      <th></th>\n",
       "      <th>warehouse_name</th>\n",
       "      <th>shipping_cost</th>\n",
       "    </tr>\n",
       "  </thead>\n",
       "  <tbody>\n",
       "    <tr>\n",
       "      <th>0</th>\n",
       "      <td>Мордор</td>\n",
       "      <td>0.0</td>\n",
       "    </tr>\n",
       "    <tr>\n",
       "      <th>1</th>\n",
       "      <td>хутор близ Диканьки</td>\n",
       "      <td>0.0</td>\n",
       "    </tr>\n",
       "    <tr>\n",
       "      <th>2</th>\n",
       "      <td>отель Лето</td>\n",
       "      <td>0.0</td>\n",
       "    </tr>\n",
       "    <tr>\n",
       "      <th>3</th>\n",
       "      <td>остров невезения</td>\n",
       "      <td>0.0</td>\n",
       "    </tr>\n",
       "    <tr>\n",
       "      <th>4</th>\n",
       "      <td>гиперборея</td>\n",
       "      <td>0.0</td>\n",
       "    </tr>\n",
       "  </tbody>\n",
       "</table>\n",
       "</div>"
      ],
      "text/plain": [
       "        warehouse_name  shipping_cost\n",
       "0               Мордор            0.0\n",
       "1  хутор близ Диканьки            0.0\n",
       "2           отель Лето            0.0\n",
       "3     остров невезения            0.0\n",
       "4           гиперборея            0.0"
      ]
     },
     "execution_count": 330,
     "metadata": {},
     "output_type": "execute_result"
    }
   ],
   "source": [
    "d1 = {'warehouse_name' : warehouses, 'shipping_cost' : np.zeros(len(warehouses))}\n",
    "shipping_cost_rate = pd.DataFrame(data=d1)\n",
    "shipping_cost_rate"
   ]
  },
  {
   "cell_type": "code",
   "execution_count": 331,
   "metadata": {},
   "outputs": [],
   "source": [
    "for i in range(len(warehouses)):\n",
    "    eee = orders_data[orders_data['warehouse_name'] == warehouses[i]].groupby('order_id', as_index=False)\\\n",
    "                    .aggregate({'highway_cost' : 'mean', 'quantity' : 'sum'})\\\n",
    "                        .sum().drop(['order_id'])\n",
    "    shipping_cost_rate.at[i, 'shipping_cost'] = eee['highway_cost'] / eee['quantity']"
   ]
  },
  {
   "cell_type": "code",
   "execution_count": 332,
   "metadata": {},
   "outputs": [
    {
     "data": {
      "text/html": [
       "<div>\n",
       "<style scoped>\n",
       "    .dataframe tbody tr th:only-of-type {\n",
       "        vertical-align: middle;\n",
       "    }\n",
       "\n",
       "    .dataframe tbody tr th {\n",
       "        vertical-align: top;\n",
       "    }\n",
       "\n",
       "    .dataframe thead th {\n",
       "        text-align: right;\n",
       "    }\n",
       "</style>\n",
       "<table border=\"1\" class=\"dataframe\">\n",
       "  <thead>\n",
       "    <tr style=\"text-align: right;\">\n",
       "      <th></th>\n",
       "      <th>warehouse_name</th>\n",
       "      <th>shipping_cost</th>\n",
       "    </tr>\n",
       "  </thead>\n",
       "  <tbody>\n",
       "    <tr>\n",
       "      <th>0</th>\n",
       "      <td>Мордор</td>\n",
       "      <td>-10.0</td>\n",
       "    </tr>\n",
       "    <tr>\n",
       "      <th>1</th>\n",
       "      <td>хутор близ Диканьки</td>\n",
       "      <td>-15.0</td>\n",
       "    </tr>\n",
       "    <tr>\n",
       "      <th>2</th>\n",
       "      <td>отель Лето</td>\n",
       "      <td>-25.0</td>\n",
       "    </tr>\n",
       "    <tr>\n",
       "      <th>3</th>\n",
       "      <td>остров невезения</td>\n",
       "      <td>-5.0</td>\n",
       "    </tr>\n",
       "    <tr>\n",
       "      <th>4</th>\n",
       "      <td>гиперборея</td>\n",
       "      <td>-20.0</td>\n",
       "    </tr>\n",
       "  </tbody>\n",
       "</table>\n",
       "</div>"
      ],
      "text/plain": [
       "        warehouse_name  shipping_cost\n",
       "0               Мордор          -10.0\n",
       "1  хутор близ Диканьки          -15.0\n",
       "2           отель Лето          -25.0\n",
       "3     остров невезения           -5.0\n",
       "4           гиперборея          -20.0"
      ]
     },
     "execution_count": 332,
     "metadata": {},
     "output_type": "execute_result"
    }
   ],
   "source": [
    "shipping_cost_rate  #тариф стоимости доставки для каждого склада"
   ]
  },
  {
   "cell_type": "markdown",
   "metadata": {},
   "source": [
    "### 2. Найти суммарное количество , суммарный доход , суммарный расход и суммарную прибыль для каждого товара (представить как таблицу со столбцами 'product', 'quantity', 'income', 'expenses', 'profit')"
   ]
  },
  {
   "cell_type": "code",
   "execution_count": null,
   "metadata": {},
   "outputs": [],
   "source": []
  },
  {
   "cell_type": "code",
   "execution_count": null,
   "metadata": {},
   "outputs": [],
   "source": []
  },
  {
   "cell_type": "code",
   "execution_count": null,
   "metadata": {},
   "outputs": [],
   "source": []
  }
 ],
 "metadata": {
  "kernelspec": {
   "display_name": "base",
   "language": "python",
   "name": "python3"
  },
  "language_info": {
   "codemirror_mode": {
    "name": "ipython",
    "version": 3
   },
   "file_extension": ".py",
   "mimetype": "text/x-python",
   "name": "python",
   "nbconvert_exporter": "python",
   "pygments_lexer": "ipython3",
   "version": "3.9.12"
  },
  "orig_nbformat": 4
 },
 "nbformat": 4,
 "nbformat_minor": 2
}
